{
 "cells": [
  {
   "cell_type": "code",
   "execution_count": 1,
   "id": "456569ab",
   "metadata": {},
   "outputs": [
    {
     "name": "stdout",
     "output_type": "stream",
     "text": [
      "loading Roboflow workspace...\n",
      "loading Roboflow project...\n",
      "Dependency ultralytics<=8.0.20 is required but found version=8.0.114, to fix: `pip install ultralytics<=8.0.20`\n",
      "Downloading Dataset Version Zip in Traditional-paraguayan-snack-detection-3 to yolov8: 100% [15286145 / 15286145] bytes\n"
     ]
    },
    {
     "name": "stderr",
     "output_type": "stream",
     "text": [
      "Extracting Dataset Version Zip to Traditional-paraguayan-snack-detection-3 in yolov8:: 100%|█| 1496/1496 [00:01<00:00, \n"
     ]
    }
   ],
   "source": [
    "from roboflow import Roboflow\n",
    "rf = Roboflow(api_key=\"R6jVb8NwZ7XOIIlxVzIT\")\n",
    "project = rf.workspace(\"ntust-lu0wl\").project(\"traditional-paraguayan-snack-detection\")\n",
    "dataset = project.version(3).download(\"yolov8\")\n"
   ]
  },
  {
   "cell_type": "code",
   "execution_count": 2,
   "id": "afd1de43",
   "metadata": {},
   "outputs": [],
   "source": [
    "import os\n",
    "os.environ[\"KMP_DUPLICATE_LIB_OK\"]=\"TRUE\""
   ]
  },
  {
   "cell_type": "code",
   "execution_count": null,
   "id": "ed5eea42",
   "metadata": {},
   "outputs": [],
   "source": [
    "## Training\n",
    "!yolo task=detect mode=train model=yolov8s.pt data={dataset.location}/data.yaml epochs=25 imgsz=640 plots=True"
   ]
  },
  {
   "cell_type": "code",
   "execution_count": 12,
   "id": "b960d21d",
   "metadata": {},
   "outputs": [
    {
     "name": "stderr",
     "output_type": "stream",
     "text": [
      "Ultralytics YOLOv8.0.114  Python-3.9.7 torch-2.0.1+cpu CPU\n",
      "Model summary (fused): 168 layers, 11127906 parameters, 0 gradients\n",
      "\n",
      "image 1/1 C:\\Users\\david\\Desktop\\capstone\\Testing\\Pajagua\\pajag.jpg: 480x640 1 Pajagua, 350.1ms\n",
      "Speed: 3.0ms preprocess, 350.1ms inference, 2.0ms postprocess per image at shape (1, 3, 640, 640)\n",
      "Results saved to \u001b[1mruns\\detect\\predict7\u001b[0m\n"
     ]
    }
   ],
   "source": [
    "#Predict with a custom model\n",
    "!yolo task=detect mode=predict model=C:/Users/david/Desktop/kpstone/runs/detect/train/weights/best.pt conf=0.25 source=C:/Users/david/Desktop/capstone/Testing/Pajagua/pajag.jpg"
   ]
  },
  {
   "cell_type": "code",
   "execution_count": null,
   "id": "b3ed6252",
   "metadata": {},
   "outputs": [],
   "source": []
  }
 ],
 "metadata": {
  "kernelspec": {
   "display_name": "Python 3 (ipykernel)",
   "language": "python",
   "name": "python3"
  },
  "language_info": {
   "codemirror_mode": {
    "name": "ipython",
    "version": 3
   },
   "file_extension": ".py",
   "mimetype": "text/x-python",
   "name": "python",
   "nbconvert_exporter": "python",
   "pygments_lexer": "ipython3",
   "version": "3.9.7"
  }
 },
 "nbformat": 4,
 "nbformat_minor": 5
}
